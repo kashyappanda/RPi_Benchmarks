{
 "metadata": {
  "language_info": {
   "name": "python",
   "version": "3.9.7",
   "mimetype": "text/x-python",
   "codemirror_mode": {
    "name": "ipython",
    "version": 3
   },
   "pygments_lexer": "ipython3",
   "nbconvert_exporter": "python",
   "file_extension": ".py"
  },
  "orig_nbformat": 2,
  "kernelspec": {
   "name": "python3",
   "display_name": "Python 3.9.6 64-bit ('.venv': venv)"
  },
  "interpreter": {
   "hash": "dc115db66e812b77a96bf2587f41553f351973570974d015d0d6f1ad0c21c9cb"
  }
 },
 "nbformat": 4,
 "nbformat_minor": 2,
 "cells": [
  {
   "cell_type": "markdown",
   "source": [
    "# Tensorflow Benchmarks\n",
    "\n",
    "## Device: Raspberry Pi 3+"
   ],
   "metadata": {}
  },
  {
   "cell_type": "code",
   "execution_count": 6,
   "source": [
    "import pandas as pd\n",
    "from matplotlib import pyplot as plt\n",
    "import numpy as np\n",
    "\n",
    "%matplotlib widget\n",
    "\n",
    "plt.rcParams[\"figure.figsize\"] = [10.00, 5.00]\n",
    "plt.rcParams[\"figure.autolayout\"] = True\n",
    "\n",
    "columns = [\"BATCH\", \"POWER\"]\n",
    "\n",
    "data = pd.read_csv(\"tensorflow_power.csv\", usecols=columns)\n",
    "\n",
    "fig, ax = plt.subplots()\n",
    "\n",
    "plt.title('Raspberry Pi 3+ Tensorflow: Average Power Per Inference Batch')\n",
    "plt.xlabel(\"Batch Size\")\n",
    "plt.ylabel(\"Peak Power (Watts)\")\n",
    "\n",
    "power = ax.plot(data.BATCH, data.POWER, label = \"Power (Watts)\")\n",
    "\n",
    "start, end = ax.get_xlim()\n",
    "start -= 0.2\n",
    "end -= 0.2\n",
    "ax.xaxis.set_ticks(np.arange(start, end, 5.0))\n",
    "\n",
    "plt.show()"
   ],
   "outputs": [
    {
     "output_type": "display_data",
     "data": {
      "application/vnd.jupyter.widget-view+json": {
       "version_major": 2,
       "version_minor": 0,
       "model_id": "18c6e40fa7ae43b29e8ae2280ffc916e"
      },
      "text/plain": [
       "Canvas(toolbar=Toolbar(toolitems=[('Home', 'Reset original view', 'home', 'home'), ('Back', 'Back to previous …"
      ]
     },
     "metadata": {}
    }
   ],
   "metadata": {}
  },
  {
   "cell_type": "code",
   "execution_count": 5,
   "source": [
    "import pandas as pd\n",
    "from matplotlib import pyplot as plt\n",
    "import numpy as np\n",
    "\n",
    "%matplotlib widget\n",
    "\n",
    "plt.rcParams[\"figure.figsize\"] = [10.00, 5.00]\n",
    "plt.rcParams[\"figure.autolayout\"] = True\n",
    "\n",
    "columns = [\"BATCH\", \"TIME\"]\n",
    "\n",
    "data = pd.read_csv(\"tensorflow_time.csv\", usecols=columns)\n",
    "\n",
    "fig, ax = plt.subplots()\n",
    "\n",
    "plt.title('Raspberry Pi 3+ Tensorflow: Average Time Per Inference')\n",
    "plt.xlabel(\"Batch Size\")\n",
    "plt.ylabel(\"Time (microseconds)\")\n",
    "\n",
    "power = ax.plot(data.BATCH, data.TIME, label = \"Time (microseconds)\")\n",
    "\n",
    "start, end = ax.get_xlim()\n",
    "start -= 0.2\n",
    "end -= 0.2\n",
    "ax.xaxis.set_ticks(np.arange(start, end, 5.0))\n",
    "\n",
    "# ax.set_ylim(ymin=0)\n",
    "\n",
    "plt.show()"
   ],
   "outputs": [
    {
     "output_type": "display_data",
     "data": {
      "application/vnd.jupyter.widget-view+json": {
       "version_major": 2,
       "version_minor": 0,
       "model_id": "7097eea7579546bb8e06d235cce410dc"
      },
      "text/plain": [
       "Canvas(toolbar=Toolbar(toolitems=[('Home', 'Reset original view', 'home', 'home'), ('Back', 'Back to previous …"
      ]
     },
     "metadata": {}
    }
   ],
   "metadata": {}
  }
 ]
}