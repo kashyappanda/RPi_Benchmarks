{
 "metadata": {
  "language_info": {
   "codemirror_mode": {
    "name": "ipython",
    "version": 3
   },
   "file_extension": ".py",
   "mimetype": "text/x-python",
   "name": "python",
   "nbconvert_exporter": "python",
   "pygments_lexer": "ipython3",
   "version": "3.9.6"
  },
  "orig_nbformat": 2,
  "kernelspec": {
   "name": "python3",
   "display_name": "Python 3.9.6 64-bit ('.venv')"
  },
  "interpreter": {
   "hash": "19c9558e4e6715021dd1933a257bc7013d27a2376313280492e4b20b74bd9d55"
  }
 },
 "nbformat": 4,
 "nbformat_minor": 2,
 "cells": [
  {
   "source": [
    "# Matrix Multiplication (SGEMM) Benchmarks\n",
    "\n",
    "## Device: Raspberry Pi Zero W"
   ],
   "cell_type": "markdown",
   "metadata": {}
  },
  {
   "cell_type": "code",
   "execution_count": 6,
   "metadata": {},
   "outputs": [
    {
     "output_type": "display_data",
     "data": {
      "text/plain": "Canvas(toolbar=Toolbar(toolitems=[('Home', 'Reset original view', 'home', 'home'), ('Back', 'Back to previous …",
      "application/vnd.jupyter.widget-view+json": {
       "version_major": 2,
       "version_minor": 0,
       "model_id": "cb886bb45ee24874bb1a0bfc3dd21479"
      }
     },
     "metadata": {}
    }
   ],
   "source": [
    "import pandas as pd\n",
    "from matplotlib import pyplot as plt\n",
    "\n",
    "%matplotlib widget\n",
    "\n",
    "plt.rcParams[\"figure.figsize\"] = [10.00, 5.00]\n",
    "plt.rcParams[\"figure.autolayout\"] = True\n",
    "\n",
    "columns = [\"Rows\", \"QMKL64\", \"QMKL128\", \"QMKL200\", \"QMKL256\", \"QMKL320\", \"QMKL384\", \"QMKL448\", \"QMKL512\"]\n",
    "\n",
    "data = pd.read_csv(\"pi0_benchmarks.csv\", usecols=columns)\n",
    "\n",
    "plt.plot(data.Rows, data.QMKL64, label = \"64 Columns\")\n",
    "plt.plot(data.Rows, data.QMKL128, label = \"128 Columns\")\n",
    "plt.plot(data.Rows, data.QMKL200, label = \"200 Columns\")\n",
    "plt.plot(data.Rows, data.QMKL256, label = \"256 Columns\")\n",
    "plt.plot(data.Rows, data.QMKL320, label = \"320 Columns\")\n",
    "plt.plot(data.Rows, data.QMKL384, label = \"384 Columns\")\n",
    "plt.plot(data.Rows, data.QMKL448, label = \"448 Columns\")\n",
    "plt.plot(data.Rows, data.QMKL512, label = \"512 Columns\")\n",
    "\n",
    "plt.title(\"Raspberry Pi Zero W\")\n",
    "\n",
    "plt.xlabel(\"Matrix Rows\")\n",
    "plt.ylabel(\"Time (seconds)\")\n",
    "\n",
    "# Set the x-axis\n",
    "# plt.gca().set_xlim([1100,1250])\n",
    "\n",
    "plt.legend()\n",
    "plt.show()"
   ]
  },
  {
   "cell_type": "code",
   "execution_count": null,
   "metadata": {},
   "outputs": [],
   "source": []
  }
 ]
}