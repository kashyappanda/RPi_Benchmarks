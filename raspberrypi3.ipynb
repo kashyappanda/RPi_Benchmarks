{
 "metadata": {
  "language_info": {
   "codemirror_mode": {
    "name": "ipython",
    "version": 3
   },
   "file_extension": ".py",
   "mimetype": "text/x-python",
   "name": "python",
   "nbconvert_exporter": "python",
   "pygments_lexer": "ipython3",
   "version": "3.9.6"
  },
  "orig_nbformat": 2,
  "kernelspec": {
   "name": "python3",
   "display_name": "Python 3.9.6 64-bit ('.venv')"
  },
  "interpreter": {
   "hash": "19c9558e4e6715021dd1933a257bc7013d27a2376313280492e4b20b74bd9d55"
  }
 },
 "nbformat": 4,
 "nbformat_minor": 2,
 "cells": [
  {
   "source": [
    "# Matrix Multiplication (SGEMM) Benchmarks\n",
    "\n",
    "## Device: Raspberry Pi 3+"
   ],
   "cell_type": "markdown",
   "metadata": {}
  },
  {
   "source": [
    "import pandas as pd\n",
    "from matplotlib import pyplot as plt\n",
    "\n",
    "%matplotlib widget\n",
    "\n",
    "plt.rcParams[\"figure.figsize\"] = [10.00, 5.00]\n",
    "plt.rcParams[\"figure.autolayout\"] = True\n",
    "\n",
    "columns = [\"Rows\", \"QMKL64\", \"OPENBLAS64\", \"QMKL128\", \"OPENBLAS128\", \"QMKL200\", \"OPENBLAS200\", \"QMKL256\", \"OPENBLAS256\", \"QMKL320\", \"OPENBLAS320\", \"QMKL384\", \"OPENBLAS384\", \"QMKL448\", \"OPENBLAS448\", \"QMKL512\", \"OPENBLAS512\"]\n",
    "\n",
    "data = pd.read_csv(\"pi3_benchmarks.csv\", usecols=columns)\n",
    "\n",
    "plt.plot(data.Rows, data.QMKL64, label = \"QMKL: 64 Columns\")\n",
    "plt.plot(data.Rows, data.QMKL128, label = \"QMKL: 128 Columns\")\n",
    "plt.plot(data.Rows, data.QMKL200, label = \"QMKL: 200 Columns\")\n",
    "plt.plot(data.Rows, data.QMKL256, label = \"QMKL: 256 Columns\")\n",
    "plt.plot(data.Rows, data.QMKL320, label = \"QMKL: 320 Columns\")\n",
    "plt.plot(data.Rows, data.QMKL384, label = \"QMKL: 384 Columns\")\n",
    "plt.plot(data.Rows, data.QMKL448, label = \"QMKL: 448 Columns\")\n",
    "plt.plot(data.Rows, data.QMKL512, label = \"QMKL: 512 Columns\")\n",
    "\n",
    "plt.plot(data.Rows, data.OPENBLAS64, label = \"OpenBLAS: 64 Columns\")\n",
    "plt.plot(data.Rows, data.OPENBLAS128, label = \"OpenBLAS: 128 Columns\")\n",
    "plt.plot(data.Rows, data.OPENBLAS200, label = \"OpenBLAS: 200 Columns\")\n",
    "plt.plot(data.Rows, data.OPENBLAS256, label = \"OpenBLAS: 256 Columns\")\n",
    "plt.plot(data.Rows, data.OPENBLAS320, label = \"OpenBLAS: 320 Columns\")\n",
    "plt.plot(data.Rows, data.OPENBLAS384, label = \"OpenBLAS: 384 Columns\")\n",
    "plt.plot(data.Rows, data.OPENBLAS448, label = \"OpenBLAS: 448 Columns\")\n",
    "plt.plot(data.Rows, data.OPENBLAS512, label = \"OpenBLAS: 512 Columns\")\n",
    "\n",
    "\n",
    "plt.title(\"Raspberry Pi 3+\")\n",
    "\n",
    "plt.xlabel(\"Matrix Rows\")\n",
    "plt.ylabel(\"Time (seconds)\")\n",
    "\n",
    "# Set the x-axis\n",
    "# plt.gca().set_xlim([1100,1250])\n",
    "\n",
    "plt.legend()\n",
    "plt.show()"
   ],
   "cell_type": "code",
   "metadata": {},
   "execution_count": 2,
   "outputs": [
    {
     "output_type": "error",
     "ename": "AttributeError",
     "evalue": "'DataFrame' object has no attribute 'Column1'",
     "traceback": [
      "\u001b[0;31m---------------------------------------------------------------------------\u001b[0m",
      "\u001b[0;31mAttributeError\u001b[0m                            Traceback (most recent call last)",
      "\u001b[0;32m/var/folders/zl/h06dwkhn7y9_zmrggmq2t26r0000gn/T/ipykernel_50309/2541861611.py\u001b[0m in \u001b[0;36m<module>\u001b[0;34m\u001b[0m\n\u001b[1;32m     11\u001b[0m \u001b[0mdata\u001b[0m \u001b[0;34m=\u001b[0m \u001b[0mpd\u001b[0m\u001b[0;34m.\u001b[0m\u001b[0mread_csv\u001b[0m\u001b[0;34m(\u001b[0m\u001b[0;34m\"pi3_benchmarks.csv\"\u001b[0m\u001b[0;34m,\u001b[0m \u001b[0musecols\u001b[0m\u001b[0;34m=\u001b[0m\u001b[0mcolumns\u001b[0m\u001b[0;34m)\u001b[0m\u001b[0;34m\u001b[0m\u001b[0;34m\u001b[0m\u001b[0m\n\u001b[1;32m     12\u001b[0m \u001b[0;34m\u001b[0m\u001b[0m\n\u001b[0;32m---> 13\u001b[0;31m \u001b[0mplt\u001b[0m\u001b[0;34m.\u001b[0m\u001b[0mplot\u001b[0m\u001b[0;34m(\u001b[0m\u001b[0mdata\u001b[0m\u001b[0;34m.\u001b[0m\u001b[0mRows\u001b[0m\u001b[0;34m,\u001b[0m \u001b[0mdata\u001b[0m\u001b[0;34m.\u001b[0m\u001b[0mColumn1\u001b[0m\u001b[0;34m,\u001b[0m \u001b[0mlabel\u001b[0m \u001b[0;34m=\u001b[0m \u001b[0;34m\"QMKL: 128 Columns\"\u001b[0m\u001b[0;34m)\u001b[0m\u001b[0;34m\u001b[0m\u001b[0;34m\u001b[0m\u001b[0m\n\u001b[0m\u001b[1;32m     14\u001b[0m \u001b[0mplt\u001b[0m\u001b[0;34m.\u001b[0m\u001b[0mplot\u001b[0m\u001b[0;34m(\u001b[0m\u001b[0mdata\u001b[0m\u001b[0;34m.\u001b[0m\u001b[0mRows\u001b[0m\u001b[0;34m,\u001b[0m \u001b[0mdata\u001b[0m\u001b[0;34m.\u001b[0m\u001b[0mColumn2\u001b[0m\u001b[0;34m,\u001b[0m \u001b[0mlabel\u001b[0m \u001b[0;34m=\u001b[0m \u001b[0;34m\"OpenBLAS: 128 Columns\"\u001b[0m\u001b[0;34m)\u001b[0m\u001b[0;34m\u001b[0m\u001b[0;34m\u001b[0m\u001b[0m\n\u001b[1;32m     15\u001b[0m \u001b[0mplt\u001b[0m\u001b[0;34m.\u001b[0m\u001b[0mplot\u001b[0m\u001b[0;34m(\u001b[0m\u001b[0mdata\u001b[0m\u001b[0;34m.\u001b[0m\u001b[0mRows\u001b[0m\u001b[0;34m,\u001b[0m \u001b[0mdata\u001b[0m\u001b[0;34m.\u001b[0m\u001b[0mColumn3\u001b[0m\u001b[0;34m,\u001b[0m \u001b[0mlabel\u001b[0m \u001b[0;34m=\u001b[0m \u001b[0;34m\"QMKL: 200 Columns\"\u001b[0m\u001b[0;34m)\u001b[0m\u001b[0;34m\u001b[0m\u001b[0;34m\u001b[0m\u001b[0m\n",
      "\u001b[0;32m~/Development/SOCAL/QPU_Benchmarks/.venv/lib/python3.9/site-packages/pandas/core/generic.py\u001b[0m in \u001b[0;36m__getattr__\u001b[0;34m(self, name)\u001b[0m\n\u001b[1;32m   5476\u001b[0m         ):\n\u001b[1;32m   5477\u001b[0m             \u001b[0;32mreturn\u001b[0m \u001b[0mself\u001b[0m\u001b[0;34m[\u001b[0m\u001b[0mname\u001b[0m\u001b[0;34m]\u001b[0m\u001b[0;34m\u001b[0m\u001b[0;34m\u001b[0m\u001b[0m\n\u001b[0;32m-> 5478\u001b[0;31m         \u001b[0;32mreturn\u001b[0m \u001b[0mobject\u001b[0m\u001b[0;34m.\u001b[0m\u001b[0m__getattribute__\u001b[0m\u001b[0;34m(\u001b[0m\u001b[0mself\u001b[0m\u001b[0;34m,\u001b[0m \u001b[0mname\u001b[0m\u001b[0;34m)\u001b[0m\u001b[0;34m\u001b[0m\u001b[0;34m\u001b[0m\u001b[0m\n\u001b[0m\u001b[1;32m   5479\u001b[0m \u001b[0;34m\u001b[0m\u001b[0m\n\u001b[1;32m   5480\u001b[0m     \u001b[0;32mdef\u001b[0m \u001b[0m__setattr__\u001b[0m\u001b[0;34m(\u001b[0m\u001b[0mself\u001b[0m\u001b[0;34m,\u001b[0m \u001b[0mname\u001b[0m\u001b[0;34m:\u001b[0m \u001b[0mstr\u001b[0m\u001b[0;34m,\u001b[0m \u001b[0mvalue\u001b[0m\u001b[0;34m)\u001b[0m \u001b[0;34m->\u001b[0m \u001b[0;32mNone\u001b[0m\u001b[0;34m:\u001b[0m\u001b[0;34m\u001b[0m\u001b[0;34m\u001b[0m\u001b[0m\n",
      "\u001b[0;31mAttributeError\u001b[0m: 'DataFrame' object has no attribute 'Column1'"
     ]
    }
   ]
  },
  {
   "cell_type": "code",
   "execution_count": null,
   "metadata": {},
   "outputs": [],
   "source": []
  }
 ]
}